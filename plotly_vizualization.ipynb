{
 "cells": [
  {
   "cell_type": "code",
   "execution_count": 1,
   "metadata": {},
   "outputs": [
    {
     "name": "stdout",
     "output_type": "stream",
     "text": [
      "5.6.0\n"
     ]
    }
   ],
   "source": [
    "import pandas as pd\n",
    "import seaborn as sns\n",
    "import matplotlib.pyplot as plt\n",
    "plt.style.use('default')\n",
    "import plotly\n",
    "import plotly.express as px\n",
    "print(plotly.__version__)"
   ]
  },
  {
   "cell_type": "code",
   "execution_count": 2,
   "metadata": {},
   "outputs": [],
   "source": [
    "covid_data = pd.read_csv('data/covid_data.csv')\n",
    "\n",
    "vaccinations_data = pd.read_csv('data/country_vaccinations.csv')\n",
    "vaccinations_data = vaccinations_data[\n",
    "    ['country', 'date', 'total_vaccinations', \n",
    "     'people_vaccinated', 'people_vaccinated_per_hundred',\n",
    "     'people_fully_vaccinated', 'people_fully_vaccinated_per_hundred',\n",
    "     'daily_vaccinations', 'vaccines']\n",
    "]\n",
    "\n",
    "\n",
    "covid_data = covid_data.groupby(\n",
    "    ['date', 'country'],\n",
    "    as_index = False\n",
    ")[['confirmed', 'deaths', 'recovered']].sum()\n",
    "\n",
    "covid_data['date'] = pd.to_datetime(covid_data['date'])\n",
    "\n",
    "covid_data['active'] = covid_data['confirmed'] - covid_data['deaths'] - covid_data['recovered']\n",
    "\n",
    "covid_data = covid_data.sort_values(by=['country', 'date'])\n",
    "covid_data['daily_confirmed'] = covid_data.groupby('country')['confirmed'].diff()\n",
    "covid_data['daily_deaths'] = covid_data.groupby('country')['deaths'].diff()\n",
    "covid_data['daily_recovered'] = covid_data.groupby('country')['recovered'].diff()\n",
    "\n",
    "vaccinations_data['date'] = pd.to_datetime(vaccinations_data['date'])\n",
    "\n",
    "covid_df = covid_data.merge(\n",
    "    vaccinations_data,\n",
    "    on = ['date', 'country'],\n",
    "    how = 'left'\n",
    ")\n",
    "\n",
    "covid_df['death_rate'] = (covid_df['deaths'] / covid_df['confirmed']) * 100\n",
    "covid_df['recover_rate'] = (covid_df['recovered'] / covid_df['confirmed']) * 100\n"
   ]
  },
  {
   "cell_type": "code",
   "execution_count": null,
   "metadata": {},
   "outputs": [],
   "source": [
    "line_data = covid_df.groupby('date', as_index=False).sum()\n",
    "fig = px.line(\n",
    "    data_frame=line_data, #DataFrame\n",
    "    x='date', #ось абсцисс\n",
    "    y=['confirmed', 'recovered', 'deaths', 'active'], #ось ординат\n",
    "    height=500, #высота\n",
    "    width=1000, #ширина\n",
    "    title='Confirmed, Recovered, Deaths, Active cases over Time' #заголовок\n",
    ")\n",
    "fig.show()"
   ]
  },
  {
   "cell_type": "code",
   "execution_count": null,
   "metadata": {},
   "outputs": [],
   "source": [
    "#считаем средний процент выздоровлений для каждой страны\n",
    "bar_data = covid_df.groupby(\n",
    "    by='country',\n",
    "    as_index=False\n",
    ")[['recover_rate']].mean().round(2).nlargest(10, columns=['recover_rate'])\n",
    "\n",
    "#строим график\n",
    "fig = px.bar(\n",
    "    data_frame=bar_data, #датафрейм\n",
    "    x=\"country\", #ось x\n",
    "    y=\"recover_rate\", #ось y\n",
    "    color='country', #расцветка в зависимости от страны\n",
    "    text = 'recover_rate', #текст на столбцах\n",
    "    orientation='v', #ориентация графика\n",
    "    height=500, #высота\n",
    "    width=1000, #ширина\n",
    "    title='Top 10 Countries for Recovery Rate' #заголовок\n",
    ")\n",
    "\n",
    "#отображаем его\n",
    "fig.show()"
   ]
  },
  {
   "cell_type": "code",
   "execution_count": null,
   "metadata": {},
   "outputs": [],
   "source": []
  }
 ],
 "metadata": {
  "interpreter": {
   "hash": "2926b25bdcf6ee1467c23b1aef687571c1f0834bd741036fd08895e49cb4db94"
  },
  "kernelspec": {
   "display_name": "Python 3.9.7 ('base')",
   "language": "python",
   "name": "python3"
  },
  "language_info": {
   "codemirror_mode": {
    "name": "ipython",
    "version": 3
   },
   "file_extension": ".py",
   "mimetype": "text/x-python",
   "name": "python",
   "nbconvert_exporter": "python",
   "pygments_lexer": "ipython3",
   "version": "3.9.7"
  },
  "orig_nbformat": 4
 },
 "nbformat": 4,
 "nbformat_minor": 2
}
