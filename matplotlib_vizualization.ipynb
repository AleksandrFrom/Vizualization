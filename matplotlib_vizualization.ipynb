{
 "cells": [
  {
   "cell_type": "code",
   "execution_count": 1,
   "metadata": {},
   "outputs": [],
   "source": [
    "import matplotlib.pyplot as plt\n",
    "%matplotlib inline\n",
    "plt.style.use('default')\n",
    "import pandas as pd"
   ]
  },
  {
   "cell_type": "code",
   "execution_count": 2,
   "metadata": {},
   "outputs": [],
   "source": [
    "covid_data = pd.read_csv('data/covid_data.csv')\n",
    "\n",
    "vaccinations_data = pd.read_csv('data/country_vaccinations.csv')\n",
    "vaccinations_data = vaccinations_data[\n",
    "    ['country', 'date', 'total_vaccinations', \n",
    "     'people_vaccinated', 'people_vaccinated_per_hundred',\n",
    "     'people_fully_vaccinated', 'people_fully_vaccinated_per_hundred',\n",
    "     'daily_vaccinations', 'vaccines']\n",
    "]\n",
    "\n",
    "\n",
    "covid_data = covid_data.groupby(\n",
    "    ['date', 'country'],\n",
    "    as_index = False\n",
    ")[['confirmed', 'deaths', 'recovered']].sum()\n",
    "\n",
    "covid_data['date'] = pd.to_datetime(covid_data['date'])\n",
    "\n",
    "covid_data['active'] = covid_data['confirmed'] - covid_data['deaths'] - covid_data['recovered']\n",
    "\n",
    "covid_data = covid_data.sort_values(by=['country', 'date'])\n",
    "covid_data['daily_confirmed'] = covid_data.groupby('country')['confirmed'].diff()\n",
    "covid_data['daily_deaths'] = covid_data.groupby('country')['deaths'].diff()\n",
    "covid_data['daily_recovered'] = covid_data.groupby('country')['recovered'].diff()\n",
    "\n",
    "vaccinations_data['date'] = pd.to_datetime(vaccinations_data['date'])\n",
    "\n",
    "covid_df = covid_data.merge(\n",
    "    vaccinations_data,\n",
    "    on = ['date', 'country'],\n",
    "    how = 'left'\n",
    ")\n",
    "\n",
    "covid_df['death_rate'] = (covid_df['deaths'] / covid_df['confirmed']) * 100\n",
    "covid_df['recover_rate'] = (covid_df['recovered'] / covid_df['confirmed']) * 100\n",
    "\n"
   ]
  },
  {
   "cell_type": "code",
   "execution_count": null,
   "metadata": {},
   "outputs": [],
   "source": [
    "fig = plt.figure(figsize =(8,4))\n",
    "axes = fig.add_axes([0,0,1,1])"
   ]
  },
  {
   "cell_type": "code",
   "execution_count": null,
   "metadata": {},
   "outputs": [],
   "source": [
    "us_data = covid_df[covid_df['country']=='United States']\n",
    "fig = plt.figure(figsize = (8,4))\n",
    "axes = fig.add_axes([0,0,1,1])\n",
    "axes.scatter(\n",
    "    x = us_data['people_fully_vaccinated'],\n",
    "    y = us_data['daily_confirmed'],\n",
    "    s=100,\n",
    "    marker = 'o',\n",
    "    c = 'blue'\n",
    ");"
   ]
  },
  {
   "cell_type": "code",
   "execution_count": null,
   "metadata": {},
   "outputs": [],
   "source": [
    "vaccine_combinations = covid_df['vaccines'].value_counts()[:10]\n",
    "fig = plt.figure(figsize=(5,5))\n",
    "axes = fig.add_axes([0,0,1,1])\n",
    "axes.pie(\n",
    "    vaccine_combinations,\n",
    "    labels = vaccine_combinations.index,\n",
    "    autopct = '%.1f%%',\n",
    "    explode = [0.1, 0, 0, 0, 0, 0, 0, 0, 0, 0]\n",
    ");"
   ]
  },
  {
   "cell_type": "code",
   "execution_count": null,
   "metadata": {},
   "outputs": [],
   "source": [
    "china_data = covid_df[covid_df['country'] == 'China']\n",
    "china_grouped = china_data.groupby(['date'])[['confirmed', 'active', 'deaths', 'recovered']].sum()\n",
    "\n",
    "#визуализация графиков\n",
    "fig = plt.figure(figsize=(10, 4))\n",
    "axes = fig.add_axes([0, 0, 1, 1])\n",
    "axes.plot(china_grouped['confirmed'], label='Общее число зафиксированных случаев', lw=3)\n",
    "axes.plot(china_grouped['deaths'], label='Общее число смертей', lw=3)\n",
    "axes.plot(china_grouped['recovered'], label='Общее число выздоровевших пациентов', lw=3)\n",
    "axes.plot(china_grouped['active'], label='Общее число активных случаев', lw=3, linestyle='dashed')\n",
    "\n",
    "#установка параметров отображения\n",
    "axes.set_title('Статистика Covid-19 в Китае', fontsize=16)\n",
    "axes.set_xlabel('Даты')\n",
    "axes.set_ylabel('Число случаев')\n",
    "axes.set_yticks(range(0, 100000, 10000))\n",
    "axes.xaxis.set_tick_params(rotation=30)\n",
    "axes.grid()\n",
    "axes.legend();"
   ]
  },
  {
   "cell_type": "code",
   "execution_count": null,
   "metadata": {},
   "outputs": [],
   "source": [
    "vacc_country = covid_df.groupby('country')['people_fully_vaccinated'].last().nlargest(5)\n",
    "vacc_country_per_hundred = covid_df.groupby('country')['people_fully_vaccinated_per_hundred'].last().nlargest(5)\n",
    "\n",
    "#визуализация главного графика\n",
    "fig = plt.figure(figsize=(13, 4))\n",
    "main_axes = fig.add_axes([0, 0, 1, 1])\n",
    "main_axes.bar(x = vacc_country.index, height = vacc_country);\n",
    "main_axes.set_ylabel('Число вакцинированных (2) компонент')\n",
    "main_axes.set_title('Топ 5 стран по числу полностью привитых людей')\n",
    "\n",
    "#визуализация вспомогательных графиков\n",
    "insert_axes = fig.add_axes([0.6, 0.6, 0.38, 0.38])\n",
    "insert_axes.bar(x = vacc_country_per_hundred.index, height = vacc_country_per_hundred, width = 0.5);\n",
    "insert_axes.set_ylabel('На 100 человек')\n",
    "insert_axes.xaxis.set_tick_params(rotation=45)"
   ]
  },
  {
   "cell_type": "code",
   "execution_count": null,
   "metadata": {},
   "outputs": [],
   "source": [
    "'''код создаст шесть координатных плоскостей, сведённых в таблицу размера 2x3:'''\n",
    "\n",
    "fig, axes = plt.subplots(nrows=2, ncols=3, figsize=(10, 5))"
   ]
  },
  {
   "cell_type": "code",
   "execution_count": null,
   "metadata": {},
   "outputs": [],
   "source": [
    "russia_data = covid_df[covid_df['country'] == 'Russia']\n",
    "\n",
    "# визуализация систем координат\n",
    "fig, axes = plt.subplots(nrows=1, ncols=3, figsize=(15, 4))\n",
    "\n",
    "# столбчатая диаграмма\n",
    "axes[0].bar(\n",
    "    x = russia_data['date'],\n",
    "    height = russia_data['daily_vaccinations'],\n",
    "    label = ' Число вакцинированных',\n",
    ")\n",
    "axes[0].set_title('Ежедневная вакцинация в РФ')\n",
    "axes[0].xaxis.set_tick_params(rotation=45)\n",
    "\n",
    "# линейный график\n",
    "axes[1].plot(\n",
    "    russia_data['date'],\n",
    "    russia_data['daily_confirmed'],\n",
    "    color = 'tomato',\n",
    "    lw = 2\n",
    ")\n",
    "axes[1].set_title('Ежедневная заболеваемость в РФ')\n",
    "axes[1].xaxis.set_tick_params(rotation=45)\n",
    "\n",
    "# гистограмма\n",
    "axes[2].hist(\n",
    "    x=russia_data['daily_confirmed'], label=['Число заболевших'], color='lime', bins=20\n",
    ")\n",
    "axes[2].set_title('Гистограмма заболеваемости в РФ')\n",
    "axes[2].xaxis.set_tick_params(rotation=30)"
   ]
  }
 ],
 "metadata": {
  "interpreter": {
   "hash": "2926b25bdcf6ee1467c23b1aef687571c1f0834bd741036fd08895e49cb4db94"
  },
  "kernelspec": {
   "display_name": "Python 3.9.7 ('base')",
   "language": "python",
   "name": "python3"
  },
  "language_info": {
   "codemirror_mode": {
    "name": "ipython",
    "version": 3
   },
   "file_extension": ".py",
   "mimetype": "text/x-python",
   "name": "python",
   "nbconvert_exporter": "python",
   "pygments_lexer": "ipython3",
   "version": "3.9.7"
  },
  "orig_nbformat": 4
 },
 "nbformat": 4,
 "nbformat_minor": 2
}
