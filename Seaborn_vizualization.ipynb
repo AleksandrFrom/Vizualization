{
 "cells": [
  {
   "cell_type": "code",
   "execution_count": 1,
   "metadata": {},
   "outputs": [
    {
     "name": "stdout",
     "output_type": "stream",
     "text": [
      "0.11.2\n"
     ]
    }
   ],
   "source": [
    "import pandas as pd\n",
    "import seaborn as sns\n",
    "import matplotlib.pyplot as plt\n",
    "import plotly\n",
    "import plotly.express as px\n",
    "plt.style.use('default')\n",
    "print(sns.__version__)"
   ]
  },
  {
   "cell_type": "code",
   "execution_count": 2,
   "metadata": {},
   "outputs": [],
   "source": [
    "covid_data = pd.read_csv('data/covid_data.csv')\n",
    "\n",
    "vaccinations_data = pd.read_csv('data/country_vaccinations.csv')\n",
    "vaccinations_data = vaccinations_data[\n",
    "    ['country', 'date', 'total_vaccinations', \n",
    "     'people_vaccinated', 'people_vaccinated_per_hundred',\n",
    "     'people_fully_vaccinated', 'people_fully_vaccinated_per_hundred',\n",
    "     'daily_vaccinations', 'vaccines']\n",
    "]\n",
    "\n",
    "\n",
    "covid_data = covid_data.groupby(\n",
    "    ['date', 'country'],\n",
    "    as_index = False\n",
    ")[['confirmed', 'deaths', 'recovered']].sum()\n",
    "\n",
    "covid_data['date'] = pd.to_datetime(covid_data['date'])\n",
    "\n",
    "covid_data['active'] = covid_data['confirmed'] - covid_data['deaths'] - covid_data['recovered']\n",
    "\n",
    "covid_data = covid_data.sort_values(by=['country', 'date'])\n",
    "covid_data['daily_confirmed'] = covid_data.groupby('country')['confirmed'].diff()\n",
    "covid_data['daily_deaths'] = covid_data.groupby('country')['deaths'].diff()\n",
    "covid_data['daily_recovered'] = covid_data.groupby('country')['recovered'].diff()\n",
    "\n",
    "vaccinations_data['date'] = pd.to_datetime(vaccinations_data['date'])\n",
    "\n",
    "covid_df = covid_data.merge(\n",
    "    vaccinations_data,\n",
    "    on = ['date', 'country'],\n",
    "    how = 'left'\n",
    ")\n",
    "\n",
    "covid_df['death_rate'] = (covid_df['deaths'] / covid_df['confirmed']) * 100\n",
    "covid_df['recover_rate'] = (covid_df['recovered'] / covid_df['confirmed']) * 100"
   ]
  },
  {
   "cell_type": "code",
   "execution_count": null,
   "metadata": {},
   "outputs": [],
   "source": [
    "countries = ['Russia', 'Australia', 'Germany', 'Canada', 'United Kingdom']\n",
    "croped_covid_df = covid_df[covid_df['country'].isin(countries)]\n",
    "\n",
    "populations = pd.DataFrame([\n",
    "    ['Canada', 37664517],\n",
    "    ['Germany', 83721496],\n",
    "    ['Russia', 145975300],\n",
    "    ['Australia', 25726900],\n",
    "    ['United Kingdom', 67802690]\n",
    "], columns=['country', 'population'])\n",
    "\n",
    "croped_covid_df = croped_covid_df.merge(populations, on=['country'])\n",
    "croped_covid_df['daily_confirmed_per_hundred'] = croped_covid_df['daily_confirmed'] / croped_covid_df['population']*100\n",
    "croped_covid_df.head()"
   ]
  },
  {
   "cell_type": "code",
   "execution_count": null,
   "metadata": {},
   "outputs": [],
   "source": [
    "fig, axes = plt.subplots(nrows=2, ncols=1, figsize=(10, 8))\n",
    "sns.histplot(\n",
    "    data = croped_covid_df,\n",
    "    x = 'daily_confirmed_per_hundred',\n",
    "    bins = 25,\n",
    "    kde = True,\n",
    "    ax = axes[0]\n",
    ");\n",
    "axes[0].set_title('Гистограмма ежедневной заболеваемости на 100 человек', fontsize = 16)\n",
    "sns.histplot(\n",
    "    data = croped_covid_df,\n",
    "    x = 'daily_confirmed_per_hundred',\n",
    "    y = 'country',\n",
    "    bins = 25,\n",
    "    color = 'red',\n",
    "    ax = axes[1]\n",
    ");"
   ]
  },
  {
   "cell_type": "code",
   "execution_count": null,
   "metadata": {},
   "outputs": [],
   "source": [
    "fig = plt.figure(figsize =(10, 6))\n",
    "boxplot = sns.boxplot(\n",
    "    data = croped_covid_df,\n",
    "    y = 'country',\n",
    "    x = 'death_rate',\n",
    "    orient ='h',\n",
    "    width = 0.5\n",
    ")\n",
    "boxplot.set_title('Распределение летальности по странам');\n",
    "boxplot.set_xlabel('Летальность');\n",
    "boxplot.set_ylabel('Страна');\n",
    "boxplot.grid()"
   ]
  },
  {
   "cell_type": "code",
   "execution_count": null,
   "metadata": {},
   "outputs": [],
   "source": [
    "fig = plt.figure(figsize=(10, 7))\n",
    "croped_covid_df['quarter'] = croped_covid_df['date'].dt.quarter\n",
    "barplot = sns.barplot(\n",
    "    data = croped_covid_df,\n",
    "    x = 'country',\n",
    "    y = 'daily_confirmed_per_hundred',\n",
    "    hue = 'quarter'\n",
    ")\n",
    "barplot.set_title('Средний процент болеющего населения по кварталам');"
   ]
  },
  {
   "cell_type": "code",
   "execution_count": null,
   "metadata": {},
   "outputs": [],
   "source": [
    "joinplot = sns.jointplot(\n",
    "    data = croped_covid_df,\n",
    "    x = 'people_fully_vaccinated_per_hundred',\n",
    "    y = 'daily_confirmed_per_hundred',\n",
    "    hue = 'country',\n",
    "    xlim = (0, 40),\n",
    "    ylim = (0, 0.1),\n",
    "    height = 8\n",
    ")"
   ]
  },
  {
   "cell_type": "code",
   "execution_count": null,
   "metadata": {},
   "outputs": [],
   "source": [
    "pivot = croped_covid_df.pivot_table(\n",
    "    values = 'people_vaccinated_per_hundred',\n",
    "    columns = 'date',\n",
    "    index = 'country'\n",
    ")\n",
    "pivot.columns = pivot.columns.astype('string')\n",
    "display(pivot)"
   ]
  },
  {
   "cell_type": "code",
   "execution_count": null,
   "metadata": {},
   "outputs": [],
   "source": [
    "heatmap = sns.heatmap(data = pivot, cmap = 'YlGnBu')\n",
    "heatmap.set_title('Тепловая карта вакцинации', fontsize =16);"
   ]
  },
  {
   "cell_type": "code",
   "execution_count": null,
   "metadata": {},
   "outputs": [],
   "source": [
    "croped_covid_df['confirmed_per_hundred'] = (croped_covid_df['confirmed'] / croped_covid_df['population']) * 100\n",
    "pivot1 = croped_covid_df.pivot_table(\n",
    "    values = 'confirmed_per_hundred',\n",
    "    columns = 'date',\n",
    "    index = 'country'\n",
    ")\n",
    "pivot1.columns = pivot1.columns.astype('string')\n",
    "display(pivot1)\n"
   ]
  },
  {
   "cell_type": "code",
   "execution_count": null,
   "metadata": {},
   "outputs": [],
   "source": [
    "heatmap = sns.heatmap(data = pivot1, cmap = 'YlGnBu')\n",
    "heatmap.set_title('Тепловая карта вакцинации', fontsize =16);"
   ]
  },
  {
   "cell_type": "code",
   "execution_count": null,
   "metadata": {},
   "outputs": [],
   "source": [
    "fig = plt.figure(figsize =(10, 6))\n",
    "boxplot = sns.boxplot(\n",
    "    data = croped_covid_df,\n",
    "    y = 'country',\n",
    "    x = 'recover_rate',\n",
    "    orient ='h',\n",
    "    width = 0.5\n",
    ")\n",
    "boxplot.set_title('Распределение выздоровлений по странам');\n",
    "boxplot.set_xlabel('Выздоровление');\n",
    "boxplot.set_ylabel('Страна');\n",
    "boxplot.grid()"
   ]
  },
  {
   "cell_type": "code",
   "execution_count": null,
   "metadata": {},
   "outputs": [],
   "source": [
    "treemap_data = covid_df.groupby(\n",
    "    by='country',\n",
    "    as_index = False,\n",
    ")[['daily_recovered']].mean();\n",
    "\n",
    "fig = px.treemap(\n",
    "    data_frame = treemap_data,\n",
    "    path = ['country'],\n",
    "    values = 'daily_recovered',\n",
    "    height = 500,\n",
    "    width = 1000,\n",
    "    title = 'Daily recovered cases by country'\n",
    ");\n",
    "\n",
    "fig.show()"
   ]
  },
  {
   "cell_type": "code",
   "execution_count": null,
   "metadata": {},
   "outputs": [],
   "source": [
    "#преобразуем даты в строковый формат\n",
    "choropleth_data = covid_df.sort_values(by='date')\n",
    "choropleth_data['date'] = choropleth_data['date'].astype('string')\n",
    "\n",
    "#строим график\n",
    "fig = px.choropleth(\n",
    "    data_frame=choropleth_data, #DataFrame\n",
    "    locations=\"country\", #столбец с локациями\n",
    "    locationmode = \"country names\", #режим сопоставления локаций с базой Plotly\n",
    "    color=\"confirmed\", #от чего зависит цвет\n",
    "    animation_frame=\"date\", #анимационный бегунок\n",
    "    range_color=[0, 30e6], #диапазон цвета\n",
    "    title='Global Spread of COVID-19', #заголовок\n",
    "    width=800, #ширина\n",
    "    height=500, #высота\n",
    "    color_continuous_scale='Reds' #палитра цветов\n",
    ")\n",
    "\n",
    "#отображаем график\n",
    "fig.show()"
   ]
  },
  {
   "cell_type": "code",
   "execution_count": null,
   "metadata": {},
   "outputs": [],
   "source": [
    "countries = ['United States', 'Russia', 'United Kingdom', 'Brazil', 'France']\n",
    "scatter_data = covid_df[covid_df['country'].isin(countries)]\n",
    "\n",
    "fig = px.scatter_3d(\n",
    "    data_frame=scatter_data,\n",
    "    x = 'daily_confirmed',\n",
    "    y = 'daily_deaths',\n",
    "    z = 'daily_vaccinations',\n",
    "    color = 'country',\n",
    "    log_x=True,\n",
    "    log_y=True,\n",
    "    width=1000,\n",
    "    height=700\n",
    ")\n",
    "fig.show()\n",
    "fig.write_html(\"ploty/scatter_3d.html\")"
   ]
  },
  {
   "cell_type": "code",
   "execution_count": null,
   "metadata": {},
   "outputs": [],
   "source": [
    "line_data = covid_df.groupby('date', as_index=False)['daily_vaccinations'].sum()\n",
    "fig = px.line(data_frame=line_data, x = 'date', y='daily_vaccinations')\n",
    "fig.show()"
   ]
  },
  {
   "cell_type": "code",
   "execution_count": null,
   "metadata": {},
   "outputs": [],
   "source": [
    "#преобразуем даты в строковый формат\n",
    "choropleth_data = covid_df.sort_values(by='date')\n",
    "choropleth_data['date'] = choropleth_data['date'].astype('string')\n",
    "\n",
    "#строим график\n",
    "fig = px.choropleth(\n",
    "    data_frame=choropleth_data, #DataFrame\n",
    "    locations=\"country\", #столбец с локациями\n",
    "    locationmode = \"country names\", #режим сопоставления локаций с базой Plotly\n",
    "    color=\"total_vaccinations\", #от чего зависит цвет\n",
    "    animation_frame=\"date\", #анимационный бегунок\n",
    "    range_color=[0, 30e5], #диапазон цвета\n",
    "    title='Global Spread of COVID-19', #заголовок\n",
    "    width=800, #ширина\n",
    "    height=500, #высота\n",
    "    color_continuous_scale='Reds' #палитра цветов\n",
    ")\n",
    "\n",
    "#отображаем график\n",
    "fig.show(renderer='notebook')"
   ]
  }
 ],
 "metadata": {
  "interpreter": {
   "hash": "2926b25bdcf6ee1467c23b1aef687571c1f0834bd741036fd08895e49cb4db94"
  },
  "kernelspec": {
   "display_name": "Python 3.9.7 ('base')",
   "language": "python",
   "name": "python3"
  },
  "language_info": {
   "codemirror_mode": {
    "name": "ipython",
    "version": 3
   },
   "file_extension": ".py",
   "mimetype": "text/x-python",
   "name": "python",
   "nbconvert_exporter": "python",
   "pygments_lexer": "ipython3",
   "version": "3.9.7"
  },
  "orig_nbformat": 4
 },
 "nbformat": 4,
 "nbformat_minor": 2
}
